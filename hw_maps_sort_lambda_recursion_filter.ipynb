{
 "cells": [
  {
   "cell_type": "markdown",
   "id": "21d1bb33",
   "metadata": {},
   "source": [
    "### Exercise #1 <br>\n",
    "<p>Filter out all of the empty strings from the list below</p>"
   ]
  },
  {
   "cell_type": "code",
   "execution_count": 3,
   "id": "1dc3ecfc",
   "metadata": {},
   "outputs": [],
   "source": [
    "places = [' ', 'Argentina', '  ', 'San Diego', '', '   ', '', 'Boston', 'New York']\n",
    "# = [Argentina, San Diego, Boston, New York]\n"
   ]
  },
  {
   "cell_type": "code",
   "execution_count": 39,
   "id": "b2372a3b",
   "metadata": {},
   "outputs": [
    {
     "data": {
      "text/plain": [
       "['Argentina', 'San Diego', 'Boston', 'New York']"
      ]
     },
     "execution_count": 39,
     "metadata": {},
     "output_type": "execute_result"
    }
   ],
   "source": [
    "print_filtered_list = list(filter(lambda x: x != ' '*len(x), places))\n",
    "print_filtered_list"
   ]
  },
  {
   "cell_type": "markdown",
   "id": "3c4677ae",
   "metadata": {},
   "source": [
    "### Exercise #2 <br>\n",
    "<p>Write an anonymous function that sorts this list by the last name...<br><b>Hint: Use the \".sort()\" method and access the key\"</b></p>"
   ]
  },
  {
   "cell_type": "code",
   "execution_count": 8,
   "id": "53b2f951",
   "metadata": {},
   "outputs": [],
   "source": [
    "# .sort(key=)\n",
    "authors = [\"Connor Milliken\", \"Victor aNisimov\", \"Andrew P. Garfield\", \"David HassELHOFF\", \"Oprah wInfrey\"]\n"
   ]
  },
  {
   "cell_type": "code",
   "execution_count": 37,
   "id": "00724dd8",
   "metadata": {},
   "outputs": [
    {
     "data": {
      "text/plain": [
       "['Andrew P. Garfield',\n",
       " 'David HassELHOFF',\n",
       " 'Connor Milliken',\n",
       " 'Victor aNisimov',\n",
       " 'Oprah wInfrey']"
      ]
     },
     "execution_count": 37,
     "metadata": {},
     "output_type": "execute_result"
    }
   ],
   "source": [
    "print_sorted_list = list(sorted(authors, key=lambda x: x.casefold() [-1]))\n",
    "print_sorted_list"
   ]
  },
  {
   "cell_type": "markdown",
   "id": "425c3f97",
   "metadata": {},
   "source": [
    "### Exercise #3 <br>\n",
    "<p>Convert the list below from Celsius to Farhenheit, using the map function with a lambda...</p>"
   ]
  },
  {
   "cell_type": "code",
   "execution_count": 18,
   "id": "dd12bf36",
   "metadata": {},
   "outputs": [],
   "source": [
    "places2 = [('Nassau', 32), ('Boston', 12), ('Los Angeles', 44), ('Miami', 29)]\n"
   ]
  },
  {
   "cell_type": "code",
   "execution_count": 52,
   "id": "e7ca0bfa",
   "metadata": {},
   "outputs": [
    {
     "data": {
      "text/plain": [
       "[['Nassau', 32], ['Boston', 12], ['Los Angeles', 44], ['Miami', 29]]"
      ]
     },
     "execution_count": 52,
     "metadata": {},
     "output_type": "execute_result"
    }
   ],
   "source": [
    "farenheit = list(map(lambda x: list(x), places2))\n",
    "farenheit"
   ]
  },
  {
   "cell_type": "code",
   "execution_count": null,
   "id": "11ae003b",
   "metadata": {},
   "outputs": [],
   "source": [
    " if x = int (9/5)*x+32 "
   ]
  },
  {
   "cell_type": "markdown",
   "id": "e0a2f17d",
   "metadata": {},
   "source": [
    "### Exercise #4 <br>\n",
    "<p>Write a recursive function to perform the fibonacci sequence up to the number passed in.</p>"
   ]
  },
  {
   "cell_type": "code",
   "execution_count": null,
   "id": "33f5d910",
   "metadata": {},
   "outputs": [],
   "source": [
    "def f_sequence(n):\n",
    "    if n < 0:\n",
    "        print(\"Choose a positive interger!\")\n",
    "    elif n == 0: \n",
    "        return 0\n",
    "    elif n == 1: \n",
    "        return 1\n",
    "    \n",
    "    else: \n",
    "        return f_sequence(n-1)+f_sequence(n-2)\n",
    "\n",
    "n=int(input())\n",
    "values = [str(f_sequence(x)) for x in range(0, n+1)]\n",
    "print(\",\".join(values))"
   ]
  },
  {
   "cell_type": "code",
   "execution_count": 1,
   "id": "3e78c6c2",
   "metadata": {},
   "outputs": [],
   "source": [
    "from functools import reduce\n",
    "\n",
    "def f_sequence(f, n):\n",
    "    return f(n)\n",
    "    f = reduce(lambda x: x+[x[-1]+x[-2]], range[n-2], [0, 1])\n",
    "    print(f(3))"
   ]
  },
  {
   "cell_type": "code",
   "execution_count": null,
   "id": "92e54eaa",
   "metadata": {},
   "outputs": [],
   "source": []
  }
 ],
 "metadata": {
  "kernelspec": {
   "display_name": "Python 3",
   "language": "python",
   "name": "python3"
  },
  "language_info": {
   "codemirror_mode": {
    "name": "ipython",
    "version": 3
   },
   "file_extension": ".py",
   "mimetype": "text/x-python",
   "name": "python",
   "nbconvert_exporter": "python",
   "pygments_lexer": "ipython3",
   "version": "3.9.6"
  }
 },
 "nbformat": 4,
 "nbformat_minor": 5
}
