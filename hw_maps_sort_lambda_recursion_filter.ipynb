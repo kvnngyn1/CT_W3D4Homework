{
 "cells": [
  {
   "cell_type": "markdown",
   "id": "2db962a8",
   "metadata": {},
   "source": [
    "### Exercise #1 <br>\n",
    "<p>Filter out all of the empty strings from the list below</p>"
   ]
  },
  {
   "cell_type": "code",
   "execution_count": 3,
   "id": "b41eaafd",
   "metadata": {},
   "outputs": [],
   "source": [
    "places = [' ', 'Argentina', '  ', 'San Diego', '', '   ', '', 'Boston', 'New York']\n",
    "# = [Argentina, San Diego, Boston, New York]\n"
   ]
  },
  {
   "cell_type": "code",
   "execution_count": 39,
   "id": "7258b8f1",
   "metadata": {},
   "outputs": [
    {
     "data": {
      "text/plain": [
       "['Argentina', 'San Diego', 'Boston', 'New York']"
      ]
     },
     "execution_count": 39,
     "metadata": {},
     "output_type": "execute_result"
    }
   ],
   "source": [
    "print_filtered_list = list(filter(lambda x: x != ' '*len(x), places))\n",
    "print_filtered_list"
   ]
  },
  {
   "cell_type": "markdown",
   "id": "0fc2cdfc",
   "metadata": {},
   "source": [
    "### Exercise #2 <br>\n",
    "<p>Write an anonymous function that sorts this list by the last name...<br><b>Hint: Use the \".sort()\" method and access the key\"</b></p>"
   ]
  },
  {
   "cell_type": "code",
   "execution_count": 5,
   "id": "d1f327c5",
   "metadata": {},
   "outputs": [],
   "source": [
    "# .sort(key=)\n",
    "authors = [\"Connor Milliken\", \"Victor aNisimov\", \"Andrew P. Garfield\", \"David HassELHOFF\", \"Oprah wInfrey\"]\n"
   ]
  },
  {
   "cell_type": "code",
   "execution_count": 13,
   "id": "3242c529",
   "metadata": {},
   "outputs": [
    {
     "data": {
      "text/plain": [
       "['Andrew P. Garfield',\n",
       " 'David HassELHOFF',\n",
       " 'Connor Milliken',\n",
       " 'Victor aNisimov',\n",
       " 'Oprah wInfrey']"
      ]
     },
     "execution_count": 13,
     "metadata": {},
     "output_type": "execute_result"
    }
   ],
   "source": [
    "print_sorted_list = sorted(authors, key=lambda x: x.split()[-1])\n",
    "print_sorted_list"
   ]
  },
  {
   "cell_type": "markdown",
   "id": "04d6f6ba",
   "metadata": {},
   "source": [
    "### Exercise #3 <br>\n",
    "<p>Convert the list below from Celsius to Farhenheit, using the map function with a lambda...</p>"
   ]
  },
  {
   "cell_type": "code",
   "execution_count": 17,
   "id": "aa83b606",
   "metadata": {},
   "outputs": [],
   "source": [
    "from functools import reduce\n",
    "\n",
    "places2 = [('Nassau', 32), ('Boston', 12), ('Los Angeles', 44), ('Miami', 29)]"
   ]
  },
  {
   "cell_type": "code",
   "execution_count": 19,
   "id": "8e65bf7e",
   "metadata": {},
   "outputs": [
    {
     "data": {
      "text/plain": [
       "[('Nassau', 89.6), ('Boston', 53.6), ('Los Angeles', 111.2), ('Miami', 84.2)]"
      ]
     },
     "execution_count": 19,
     "metadata": {},
     "output_type": "execute_result"
    }
   ],
   "source": [
    "farenheit = list(map(lambda x: (x[0], (9/5)*x[1]+32), places2))\n",
    "farenheit"
   ]
  },
  {
   "cell_type": "code",
   "execution_count": null,
   "id": "ae7357a8",
   "metadata": {},
   "outputs": [],
   "source": [
    " if x = int (9/5)*x+32 "
   ]
  },
  {
   "cell_type": "markdown",
   "id": "6c4f9628",
   "metadata": {},
   "source": [
    "### Exercise #4 <br>\n",
    "<p>Write a recursive function to perform the fibonacci sequence up to the number passed in.</p>"
   ]
  },
  {
   "cell_type": "code",
   "execution_count": 1,
   "id": "b43b2f08",
   "metadata": {},
   "outputs": [],
   "source": [
    "from functools import reduce\n",
    "\n",
    "def f_sequence(f, n):\n",
    "    return f(n)\n",
    "    f = reduce(lambda x: x+[x[-1]+x[-2]], range[n-2], [0, 1])\n",
    "    print(f(3))"
   ]
  },
  {
   "cell_type": "code",
   "execution_count": null,
   "id": "f799bd5e",
   "metadata": {},
   "outputs": [],
   "source": [
    "# found this solution online and thought itd be good to look at\n",
    "def fibonacci(count):\n",
    "    fib_list = [0, 1]\n",
    "  \n",
    "    any(map(lambda _: fib_list.append(sum(fib_list[-2:])), range(2, count)))\n",
    "  \n",
    "    return fib_list[:count]\n",
    "count = int(input())\n",
    "\n",
    "print(fibonacci(count))"
   ]
  },
  {
   "cell_type": "code",
   "execution_count": null,
   "id": "7dd08d9f",
   "metadata": {},
   "outputs": [],
   "source": [
    "# found this solution online as well\n",
    "def f_sequence(n):\n",
    "    if n < 0:\n",
    "        print(\"Choose a positive interger!\")\n",
    "    elif n == 0: \n",
    "        return 0\n",
    "    elif n == 1: \n",
    "        return 1\n",
    "    \n",
    "    else: \n",
    "        return f_sequence(n-1)+f_sequence(n-2)\n",
    "\n",
    "n=int(input())\n",
    "values = [str(f_sequence(x)) for x in range(0, n+1)]\n",
    "print(\",\".join(values))"
   ]
  },
  {
   "cell_type": "code",
   "execution_count": null,
   "id": "86e9ee56",
   "metadata": {},
   "outputs": [],
   "source": []
  }
 ],
 "metadata": {
  "kernelspec": {
   "display_name": "Python 3",
   "language": "python",
   "name": "python3"
  },
  "language_info": {
   "codemirror_mode": {
    "name": "ipython",
    "version": 3
   },
   "file_extension": ".py",
   "mimetype": "text/x-python",
   "name": "python",
   "nbconvert_exporter": "python",
   "pygments_lexer": "ipython3",
   "version": "3.9.6"
  }
 },
 "nbformat": 4,
 "nbformat_minor": 5
}
